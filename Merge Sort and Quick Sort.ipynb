{
 "cells": [
  {
   "cell_type": "code",
   "execution_count": 1,
   "id": "c2c3ae64-ae2b-4392-9fc9-e4e45efb65dd",
   "metadata": {},
   "outputs": [],
   "source": [
    "# we recursively split the list into individual elements and sort the list and put the elements together and merge the elements"
   ]
  },
  {
   "cell_type": "code",
   "execution_count": 110,
   "id": "6b131f59-024c-41ca-b19e-b53a2b0d4d26",
   "metadata": {},
   "outputs": [],
   "source": [
    "def merge_sort(arr):\n",
    "    if len(arr) <= 1:\n",
    "        return arr\n",
    "        \n",
    "    mid = len(arr)//2\n",
    "        \n",
    "    left = arr[:mid]\n",
    "    right = arr[mid:]\n",
    "    left_sorted,right_sorted = merge_sort(left),merge_sort(right)\n",
    "    print(\"left\",left)\n",
    "    print(\"right\",right)\n",
    "    sorted = merge(left_sorted,right_sorted)\n",
    "    return sorted\n",
    "    "
   ]
  },
  {
   "cell_type": "code",
   "execution_count": 111,
   "id": "1684786e-2414-438b-9c33-07936073a379",
   "metadata": {},
   "outputs": [],
   "source": [
    "def merge(arr1,arr2):\n",
    "\n",
    "    merged = []\n",
    "    i,j = 0,0\n",
    "    while i < len(arr1) and j < len(arr2):\n",
    "        if arr1[i] <= arr2[j]:\n",
    "            merged.append(arr1[i])\n",
    "            i = i+1\n",
    "        else:\n",
    "            merged.append(arr2[j])\n",
    "            j = j +1\n",
    "            \n",
    "    nums1_left = arr1[i:]\n",
    "    nums2_right = arr2[j:]\n",
    "    return merged + nums1_left + nums2_right"
   ]
  },
  {
   "cell_type": "code",
   "execution_count": 112,
   "id": "82b783fc-46b8-4a1d-9957-74051df49152",
   "metadata": {},
   "outputs": [
    {
     "name": "stdout",
     "output_type": "stream",
     "text": [
      "left [2]\n",
      "right [1]\n",
      "left [3]\n",
      "right [2, 1]\n",
      "left [5]\n",
      "right [6]\n",
      "left [4]\n",
      "right [5, 6]\n",
      "left [3, 2, 1]\n",
      "right [4, 5, 6]\n",
      "[1, 2, 3, 4, 5, 6]\n"
     ]
    }
   ],
   "source": [
    "arr = [3,2,1,4,5,6]\n",
    "out = merge_sort(arr)\n",
    "print(out)\n",
    "\n"
   ]
  },
  {
   "cell_type": "code",
   "execution_count": null,
   "id": "3d105da8-5dfc-45cc-bee6-8669da0982d8",
   "metadata": {},
   "outputs": [],
   "source": []
  },
  {
   "cell_type": "code",
   "execution_count": 11,
   "id": "5a54c0a5-bf35-458f-abf2-899e3cb597f7",
   "metadata": {},
   "outputs": [],
   "source": [
    "# Quick Sort \n",
    "\n",
    "def quick_Sort(nums,start=0,end=None):\n",
    "    if end is None:\n",
    "        nums = list(nums)\n",
    "        end = len(nums) - 1\n",
    "    if start < end:\n",
    "        piviot = partition(nums,start,end)\n",
    "        print(piviot)\n",
    "        quick_Sort(nums,start,piviot-1)\n",
    "        quick_Sort(nums,piviot+1,end)\n",
    "    return nums\n",
    "        "
   ]
  },
  {
   "cell_type": "code",
   "execution_count": 12,
   "id": "20d7175d-87be-4a09-8d58-ca89fb9daf07",
   "metadata": {},
   "outputs": [],
   "source": [
    "def partition(nums,start=0,end=None):\n",
    "    if end is None:\n",
    "        end = len(nums) - 1\n",
    "   \n",
    "    l,r = start,end-1\n",
    "    while r > l:\n",
    "        if nums[l] <= nums[end]:\n",
    "            l += 1\n",
    "        elif nums[r] > nums[end]:\n",
    "            r -= 1\n",
    "        else:\n",
    "            nums[l],nums[r]=nums[r],nums[l]\n",
    "            \n",
    "    if nums[l] > nums[end]:\n",
    "        nums[l],nums[end] = nums[end],nums[l]\n",
    "        return l\n",
    "    else:\n",
    "        return end\n",
    "        \n",
    "        \n",
    "    \n",
    "    "
   ]
  },
  {
   "cell_type": "code",
   "execution_count": 13,
   "id": "30868d56-43a0-46fe-98e9-07713de76119",
   "metadata": {},
   "outputs": [
    {
     "name": "stdout",
     "output_type": "stream",
     "text": [
      "3\n",
      "2\n",
      "0\n",
      "5\n",
      "[0, 1, 2, 3, 5, 6, 11]\n"
     ]
    }
   ],
   "source": [
    "data = [1,5,6,2,0,11,3]\n",
    "quick = quick_Sort(data)\n",
    "print(quick)"
   ]
  },
  {
   "cell_type": "code",
   "execution_count": null,
   "id": "982ebe70-45b0-4173-85eb-c46de65d6576",
   "metadata": {},
   "outputs": [],
   "source": [
    "#WE ARE GIVEN A SET OF notebooks arrange them in order"
   ]
  },
  {
   "cell_type": "code",
   "execution_count": 6,
   "id": "5c38081a-d13b-4439-bf81-a7443752b1f7",
   "metadata": {},
   "outputs": [],
   "source": [
    "class Notebooks:\n",
    "    def __init__(self,title,username,likes):\n",
    "        self.title = title\n",
    "        self.username = username\n",
    "        self.likes = likes\n",
    "    def __repr__(self):\n",
    "        return \"notebook /{} , {} has {} likes\".format(self.title,self.username,self.likes)\n",
    "        "
   ]
  },
  {
   "cell_type": "code",
   "execution_count": 7,
   "id": "8c941ed9-8462-40cb-8882-bba150b2d305",
   "metadata": {},
   "outputs": [],
   "source": [
    "nb0 = Notebooks(\"Adujeevetham\",\"benyamen\",\"232\")\n",
    "nb1 = Notebooks(\"Hate Story\",\"Ram Rakudeev\",\"332\")\n",
    "nb2 = Notebooks(\"Half girl friend\",\"Chetri\",\"432\")\n",
    "nb3 = Notebooks(\"Animal Farm\",\"George Orwell\",\"500\")"
   ]
  },
  {
   "cell_type": "code",
   "execution_count": 8,
   "id": "00f6a591-ae99-4187-9e0b-0465bdd97e01",
   "metadata": {},
   "outputs": [],
   "source": [
    "note = [nb0,nb1,nb2,nb3]"
   ]
  },
  {
   "cell_type": "code",
   "execution_count": 9,
   "id": "f355a80d-226b-4494-8f73-38c8b0d37666",
   "metadata": {},
   "outputs": [],
   "source": [
    "def compare_likes(nb1,nb2):\n",
    "    if nb1 == nb2:\n",
    "        return \"Equals\"\n",
    "    elif nb1 > nb2:\n",
    "        return \"Lesser\"\n",
    "    else:\n",
    "        return \"Greater\"\n"
   ]
  },
  {
   "cell_type": "code",
   "execution_count": 10,
   "id": "ac4bae86-6aba-4801-bec9-48adc977a36d",
   "metadata": {},
   "outputs": [],
   "source": [
    "def default_compare(x,y):\n",
    "    if x == y:\n",
    "        return \"Equals\"\n",
    "    elif x > y:\n",
    "        return \"Lesser\"\n",
    "    else:\n",
    "        return \"Greater\"\n",
    "        "
   ]
  },
  {
   "cell_type": "code",
   "execution_count": 14,
   "id": "cd2aa816-b601-4d3b-8a44-b02f56527f2f",
   "metadata": {},
   "outputs": [],
   "source": [
    "def merge_sort(obj,compare = default_compare):\n",
    "    mid = len(obj) // 2\n",
    "    return merge(merge_sort(obj[mid:],default_compare),\n",
    "                merge_sort(obj[:mid],defalut_compare),\n",
    "                compare)\n",
    "    "
   ]
  },
  {
   "cell_type": "code",
   "execution_count": 15,
   "id": "22838e18-4cdc-4edd-a920-96ffcd05820a",
   "metadata": {},
   "outputs": [],
   "source": [
    "def merge(x,y,compare):\n",
    "    i,j,merged = 0,0,[]\n",
    "    while i < len(x) and j < len(y):\n",
    "        result = compare(x[i],y[j])\n",
    "        if result == \"Lesser\" or result == \"Equals\":\n",
    "            merged.append[x[i]]\n",
    "            i += 1\n",
    "        else:\n",
    "            merged.append[y[j]]\n",
    "            j += 1\n",
    "        return merged+x[i:]+y[j:]\n",
    "    "
   ]
  },
  {
   "cell_type": "code",
   "execution_count": 16,
   "id": "500d2530-5273-468f-87a6-92b13512aa4b",
   "metadata": {},
   "outputs": [
    {
     "ename": "RecursionError",
     "evalue": "maximum recursion depth exceeded",
     "output_type": "error",
     "traceback": [
      "\u001b[1;31m---------------------------------------------------------------------------\u001b[0m",
      "\u001b[1;31mRecursionError\u001b[0m                            Traceback (most recent call last)",
      "Cell \u001b[1;32mIn[16], line 1\u001b[0m\n\u001b[1;32m----> 1\u001b[0m \u001b[43mmerge_sort\u001b[49m\u001b[43m(\u001b[49m\u001b[43mnote\u001b[49m\u001b[43m,\u001b[49m\u001b[43mcompare_likes\u001b[49m\u001b[43m)\u001b[49m\n",
      "Cell \u001b[1;32mIn[14], line 3\u001b[0m, in \u001b[0;36mmerge_sort\u001b[1;34m(obj, compare)\u001b[0m\n\u001b[0;32m      1\u001b[0m \u001b[38;5;28;01mdef\u001b[39;00m \u001b[38;5;21mmerge_sort\u001b[39m(obj,compare \u001b[38;5;241m=\u001b[39m default_compare):\n\u001b[0;32m      2\u001b[0m     mid \u001b[38;5;241m=\u001b[39m \u001b[38;5;28mlen\u001b[39m(obj) \u001b[38;5;241m/\u001b[39m\u001b[38;5;241m/\u001b[39m \u001b[38;5;241m2\u001b[39m\n\u001b[1;32m----> 3\u001b[0m     \u001b[38;5;28;01mreturn\u001b[39;00m merge(\u001b[43mmerge_sort\u001b[49m\u001b[43m(\u001b[49m\u001b[43mobj\u001b[49m\u001b[43m[\u001b[49m\u001b[43mmid\u001b[49m\u001b[43m:\u001b[49m\u001b[43m]\u001b[49m\u001b[43m,\u001b[49m\u001b[43mdefault_compare\u001b[49m\u001b[43m)\u001b[49m,\n\u001b[0;32m      4\u001b[0m                 merge_sort(obj[:mid],defalut_compare),\n\u001b[0;32m      5\u001b[0m                 compare)\n",
      "Cell \u001b[1;32mIn[14], line 3\u001b[0m, in \u001b[0;36mmerge_sort\u001b[1;34m(obj, compare)\u001b[0m\n\u001b[0;32m      1\u001b[0m \u001b[38;5;28;01mdef\u001b[39;00m \u001b[38;5;21mmerge_sort\u001b[39m(obj,compare \u001b[38;5;241m=\u001b[39m default_compare):\n\u001b[0;32m      2\u001b[0m     mid \u001b[38;5;241m=\u001b[39m \u001b[38;5;28mlen\u001b[39m(obj) \u001b[38;5;241m/\u001b[39m\u001b[38;5;241m/\u001b[39m \u001b[38;5;241m2\u001b[39m\n\u001b[1;32m----> 3\u001b[0m     \u001b[38;5;28;01mreturn\u001b[39;00m merge(\u001b[43mmerge_sort\u001b[49m\u001b[43m(\u001b[49m\u001b[43mobj\u001b[49m\u001b[43m[\u001b[49m\u001b[43mmid\u001b[49m\u001b[43m:\u001b[49m\u001b[43m]\u001b[49m\u001b[43m,\u001b[49m\u001b[43mdefault_compare\u001b[49m\u001b[43m)\u001b[49m,\n\u001b[0;32m      4\u001b[0m                 merge_sort(obj[:mid],defalut_compare),\n\u001b[0;32m      5\u001b[0m                 compare)\n",
      "    \u001b[1;31m[... skipping similar frames: merge_sort at line 3 (2975 times)]\u001b[0m\n",
      "Cell \u001b[1;32mIn[14], line 3\u001b[0m, in \u001b[0;36mmerge_sort\u001b[1;34m(obj, compare)\u001b[0m\n\u001b[0;32m      1\u001b[0m \u001b[38;5;28;01mdef\u001b[39;00m \u001b[38;5;21mmerge_sort\u001b[39m(obj,compare \u001b[38;5;241m=\u001b[39m default_compare):\n\u001b[0;32m      2\u001b[0m     mid \u001b[38;5;241m=\u001b[39m \u001b[38;5;28mlen\u001b[39m(obj) \u001b[38;5;241m/\u001b[39m\u001b[38;5;241m/\u001b[39m \u001b[38;5;241m2\u001b[39m\n\u001b[1;32m----> 3\u001b[0m     \u001b[38;5;28;01mreturn\u001b[39;00m merge(\u001b[43mmerge_sort\u001b[49m\u001b[43m(\u001b[49m\u001b[43mobj\u001b[49m\u001b[43m[\u001b[49m\u001b[43mmid\u001b[49m\u001b[43m:\u001b[49m\u001b[43m]\u001b[49m\u001b[43m,\u001b[49m\u001b[43mdefault_compare\u001b[49m\u001b[43m)\u001b[49m,\n\u001b[0;32m      4\u001b[0m                 merge_sort(obj[:mid],defalut_compare),\n\u001b[0;32m      5\u001b[0m                 compare)\n",
      "\u001b[1;31mRecursionError\u001b[0m: maximum recursion depth exceeded"
     ]
    }
   ],
   "source": [
    "merge_sort(note,compare_likes)"
   ]
  },
  {
   "cell_type": "code",
   "execution_count": null,
   "id": "f6f37ded-1a48-40fc-a831-70f8c7e11ab3",
   "metadata": {},
   "outputs": [],
   "source": []
  }
 ],
 "metadata": {
  "kernelspec": {
   "display_name": "Python 3 (ipykernel)",
   "language": "python",
   "name": "python3"
  },
  "language_info": {
   "codemirror_mode": {
    "name": "ipython",
    "version": 3
   },
   "file_extension": ".py",
   "mimetype": "text/x-python",
   "name": "python",
   "nbconvert_exporter": "python",
   "pygments_lexer": "ipython3",
   "version": "3.12.1"
  }
 },
 "nbformat": 4,
 "nbformat_minor": 5
}
