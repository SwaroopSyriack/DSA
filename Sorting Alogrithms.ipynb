{
 "cells": [
  {
   "cell_type": "code",
   "execution_count": 60,
   "id": "2019f1ab-d754-4b62-a36b-54e42d81f0d4",
   "metadata": {},
   "outputs": [],
   "source": [
    "test0 = {\n",
    "    \"input\":{\n",
    "        \"nums\":[5,1,4,2,8]\n",
    "    },\n",
    "    \"output\":[1,2,4,5,8]\n",
    "}"
   ]
  },
  {
   "cell_type": "code",
   "execution_count": 61,
   "id": "1b8c7bfd-7069-47ba-a8a0-8e7372cdce3e",
   "metadata": {},
   "outputs": [],
   "source": [
    "test1 = {\n",
    "    \"input\":{\n",
    "        \"nums\":[5,1,6,2,4,3]\n",
    "    },\n",
    "    \"output\":[1,2,3,4,5,6]\n",
    "}"
   ]
  },
  {
   "cell_type": "code",
   "execution_count": 62,
   "id": "0de4ed09-6404-4308-8b34-530c1c1c6331",
   "metadata": {},
   "outputs": [
    {
     "data": {
      "text/plain": [
       "[5, 1, 4, 2, 8]"
      ]
     },
     "execution_count": 62,
     "metadata": {},
     "output_type": "execute_result"
    }
   ],
   "source": [
    "test0[\"input\"][\"nums\"]"
   ]
  },
  {
   "cell_type": "code",
   "execution_count": 12,
   "id": "7c92aa6b-ac48-448e-a8f4-df92f99499fe",
   "metadata": {},
   "outputs": [],
   "source": [
    "def BubbleSort(data_list):\n",
    "    nums = list(data_list)\n",
    "    for _ in range (len(nums)-1):\n",
    "        for i in range (len(nums)-1):\n",
    "            if nums[i] > nums[i+1]:\n",
    "                nums[i],nums[i+1]  = nums[i+1],nums[i]\n",
    "    return nums"
   ]
  },
  {
   "cell_type": "code",
   "execution_count": 13,
   "id": "2160f40f-1444-41ea-a782-1bb62ba3dae3",
   "metadata": {},
   "outputs": [],
   "source": [
    "out = BubbleSort(test[1][\"input\"][\"nums\"])\n",
    "if out == test[1][\"output\"]:\n",
    "    print(\"True\")"
   ]
  },
  {
   "cell_type": "code",
   "execution_count": 70,
   "id": "727391b9-d286-4912-8bd5-b69bd6f8c9a0",
   "metadata": {},
   "outputs": [],
   "source": [
    "def InsertionSort(data_list):\n",
    "    for i in range(len(data_list)):\n",
    "        cur = data_list.pop(i)\n",
    "        j = i - 1\n",
    "        while j >= 0 and data_list[j] > cur:\n",
    "            j=j-1\n",
    "        data_list.insert(j+1,cur)\n",
    "    return data_list\n",
    "    "
   ]
  },
  {
   "cell_type": "code",
   "execution_count": 71,
   "id": "226317c5-b745-4b00-bfe9-f3bb5b7cc5c5",
   "metadata": {},
   "outputs": [
    {
     "name": "stdout",
     "output_type": "stream",
     "text": [
      "[1, 2, 4, 5, 8]\n"
     ]
    }
   ],
   "source": [
    "out = InsertionSort([5,1,4,2,8])\n",
    "print(out)"
   ]
  },
  {
   "cell_type": "code",
   "execution_count": null,
   "id": "78893f1a-1348-44b2-86a3-6789a7aca2b4",
   "metadata": {},
   "outputs": [],
   "source": []
  },
  {
   "cell_type": "code",
   "execution_count": null,
   "id": "5ce4410d-5d71-4367-9b34-dcf5c2334bdc",
   "metadata": {},
   "outputs": [],
   "source": []
  }
 ],
 "metadata": {
  "kernelspec": {
   "display_name": "Python 3 (ipykernel)",
   "language": "python",
   "name": "python3"
  },
  "language_info": {
   "codemirror_mode": {
    "name": "ipython",
    "version": 3
   },
   "file_extension": ".py",
   "mimetype": "text/x-python",
   "name": "python",
   "nbconvert_exporter": "python",
   "pygments_lexer": "ipython3",
   "version": "3.12.0"
  }
 },
 "nbformat": 4,
 "nbformat_minor": 5
}
