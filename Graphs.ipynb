{
 "cells": [
  {
   "cell_type": "code",
   "execution_count": 20,
   "id": "4af36331-c33c-4821-a32f-b4a4c4293e9f",
   "metadata": {},
   "outputs": [],
   "source": [
    "graph_nodes = 5\n",
    "graph_edges = [(0,1),(0,4),(1,2),(1,3),(1,4),(2,3),(3,4)]"
   ]
  },
  {
   "cell_type": "code",
   "execution_count": 21,
   "id": "396d81c4-835a-4262-b861-a8c03d049dc0",
   "metadata": {},
   "outputs": [],
   "source": [
    "class Graph:\n",
    "    def __init__(self,nodes,edges):\n",
    "        self.nodes = nodes\n",
    "        self.data = [ [] for _ in range(len(nodes))]\n",
    "        for n1,n2 in edges:\n",
    "            self.data[n1].append(n2)\n",
    "            self.data[n2].append(n1)\n",
    "    def __repr__(self):\n",
    "        return \"\\n\".join([\"{} : {}\".format(n,ni) for n,ni in enumerate(self.data)])\n",
    "    def __str__(self):\n",
    "        return self.__repr__()\n",
    "        \n",
    "        "
   ]
  },
  {
   "cell_type": "code",
   "execution_count": 22,
   "id": "37f2030b-152e-4969-8cc7-675836ebeb6f",
   "metadata": {},
   "outputs": [],
   "source": [
    "graph = Graph(graph_nodes,graph_edges)"
   ]
  },
  {
   "cell_type": "code",
   "execution_count": 23,
   "id": "6831a0dd-5179-481e-a9a7-cae0f59d81f9",
   "metadata": {},
   "outputs": [
    {
     "name": "stdout",
     "output_type": "stream",
     "text": [
      "0 : [1, 4]\n",
      "1 : [0, 2, 3, 4]\n",
      "2 : [1, 3]\n",
      "3 : [1, 2, 4]\n",
      "4 : [0, 1, 3]\n",
      "5 : []\n",
      "6 : []\n"
     ]
    }
   ],
   "source": [
    "print(graph)"
   ]
  },
  {
   "cell_type": "code",
   "execution_count": 10,
   "id": "4f312b5b-55fe-4563-9aaf-f0fda21e7b7d",
   "metadata": {},
   "outputs": [],
   "source": [
    "def bsf(graph,root):\n",
    "    queue = []\n",
    "    discovered = [False] * len(graph.data)\n",
    "    distance = [None] * len(graph.data)\n",
    "    parent = [None] * len(graph.data)\n",
    "    discovered[root] = True\n",
    "    distance[root] = 0\n",
    "    queue.append(root)\n",
    "    idx = 0\n",
    "    while idx < len(queue):\n",
    "        current = queue[idx]\n",
    "        idx += 1\n",
    "        for node in graph.data[current]:\n",
    "            if not discovered[node]:\n",
    "                distance[node] = 1 + distance[current]\n",
    "                parent[node] = current\n",
    "                discovered[node] = True\n",
    "                queue.append(node)\n",
    "    return queue , distance , parent"
   ]
  },
  {
   "cell_type": "code",
   "execution_count": 11,
   "id": "0e68cecd-41a6-45b6-9fc3-44bfd048d6b4",
   "metadata": {},
   "outputs": [
    {
     "data": {
      "text/plain": [
       "([3, 1, 2, 4, 0], [2, 1, 1, 0, 1], [1, 3, 3, None, 3])"
      ]
     },
     "execution_count": 11,
     "metadata": {},
     "output_type": "execute_result"
    }
   ],
   "source": [
    "bsf(graph,3)"
   ]
  },
  {
   "cell_type": "code",
   "execution_count": 14,
   "id": "e20bfade-6c8a-42cd-a5ae-064b5fc7b9bf",
   "metadata": {},
   "outputs": [],
   "source": [
    "def dfs(graph,root):\n",
    "    stack = []\n",
    "    discovered = [False] * len(graph.data)\n",
    "    result = []\n",
    "    stack.append(root)\n",
    "    discovered[root] = True\n",
    "    \n",
    "    while len(stack) > 0:\n",
    "        current = stack.pop()\n",
    "        result.append(current)\n",
    "        for node in graph.data[current]:\n",
    "            if not discovered[node]:\n",
    "                stack.append(node)\n",
    "                discovered[node] = True\n",
    "    return result\n",
    "                \n",
    "        "
   ]
  },
  {
   "cell_type": "code",
   "execution_count": 15,
   "id": "14dc6680-91ab-4343-9802-a3be79b4c3bf",
   "metadata": {},
   "outputs": [
    {
     "data": {
      "text/plain": [
       "[3, 4, 0, 2, 1]"
      ]
     },
     "execution_count": 15,
     "metadata": {},
     "output_type": "execute_result"
    }
   ],
   "source": [
    "dfs(graph,3)"
   ]
  },
  {
   "cell_type": "code",
   "execution_count": 5,
   "id": "ac649c4e-40ab-4834-80ae-49478ee8b02b",
   "metadata": {},
   "outputs": [
    {
     "data": {
      "text/plain": [
       "10"
      ]
     },
     "execution_count": 5,
     "metadata": {},
     "output_type": "execute_result"
    }
   ],
   "source": [
    "#weighted graphs\n",
    "graph_node = 9\n",
    "graph_edge = [(0,1,3),(0,3,2),(0,8,4),(1,7,4),(2,7,2),(2,3,6),(2,5,1),(3,4,1),(4,8,8),(5,6,8)]\n",
    "len(graph_edge)"
   ]
  },
  {
   "cell_type": "code",
   "execution_count": 6,
   "id": "b5627532-1451-4c78-8aac-ec1fe70bcf5c",
   "metadata": {},
   "outputs": [],
   "source": [
    "class Graph1:\n",
    "    def __init__(self,nodes,edges,directed = False,weighted = False):\n",
    "        self.nodes = nodes\n",
    "        self.edges = edges\n",
    "        self.directed = directed\n",
    "        self.weighted = weighted\n",
    "        self.data = [[] for _ in range (nodes)]\n",
    "        self.weight = [[] for _ in range(nodes)]\n",
    "        for edge in edges:\n",
    "            if self.weighted:\n",
    "                node1,node2,weight = edge\n",
    "                self.data[node1].append(node2)\n",
    "                self.weight[node1].append(weight)\n",
    "                if not directed:\n",
    "                    self.data[node2].append(node1)\n",
    "                    self.weight[node2].append(weight)\n",
    "            else:\n",
    "                node1,node2 = edge\n",
    "                self.data[node1].append(node2)\n",
    "                if not directed:\n",
    "                    self.data[node2].append(node1)\n",
    "    \n",
    "    def __repr__(self):\n",
    "        result = \"\"\n",
    "        if self.weighted:\n",
    "            for i,(nodes,weight) in enumerate(zip(self.data,self.weight)):\n",
    "                result +=  \"{} : {} \\n\".format(i,list(zip(nodes,weight)))\n",
    "                \n",
    "        else:\n",
    "            for i,node in enumerate(self.data):\n",
    "                result =  \"{} : {} \\n\".format(i,node)\n",
    "        return result\n",
    "                        \n",
    "                \n",
    "            \n",
    "        \n",
    "   \n",
    "    \n",
    "                    \n",
    "                "
   ]
  },
  {
   "cell_type": "code",
   "execution_count": 7,
   "id": "beb09421-2ccc-4b92-9e99-cfbd63fdd45f",
   "metadata": {},
   "outputs": [],
   "source": [
    "graph1 = Graph1(graph_node,graph_edge,False,True)"
   ]
  },
  {
   "cell_type": "code",
   "execution_count": 8,
   "id": "c1af643f-fb21-4093-877f-bf34c275ce5b",
   "metadata": {},
   "outputs": [
    {
     "name": "stdout",
     "output_type": "stream",
     "text": [
      "0 : [(1, 3), (3, 2), (8, 4)] \n",
      "1 : [(0, 3), (7, 4)] \n",
      "2 : [(7, 2), (3, 6), (5, 1)] \n",
      "3 : [(0, 2), (2, 6), (4, 1)] \n",
      "4 : [(3, 1), (8, 8)] \n",
      "5 : [(2, 1), (6, 8)] \n",
      "6 : [(5, 8)] \n",
      "7 : [(1, 4), (2, 2)] \n",
      "8 : [(0, 4), (4, 8)] \n",
      "\n"
     ]
    }
   ],
   "source": [
    "print(graph1)"
   ]
  },
  {
   "cell_type": "code",
   "execution_count": 91,
   "id": "e8908ec8-b836-4a93-833e-25cd7f055a86",
   "metadata": {},
   "outputs": [],
   "source": [
    "def shortest_path(graph,source,target):\n",
    "    visited = [False]* len(graph.data)\n",
    "    parent_node = [None]* len(graph.data)\n",
    "    distance = [float('inf')]* len(graph.data)\n",
    "    queue = []\n",
    "\n",
    "    distance[source] = 0\n",
    "    queue.append(source)\n",
    "    idx = 0 \n",
    "    while idx < len(queue) and not visited[target]:\n",
    "        current = queue[idx]\n",
    "        visited[current] = True\n",
    "        idx += 1\n",
    "\n",
    "        update_distance(graph,current,distance,parent_node)\n",
    "        next_node = next_node_fetch(distance,visited)\n",
    "    \n",
    "        if next_node:\n",
    "            queue.append(next_node)\n",
    "\n",
    "    return distance[target],parent_node\n",
    "        \n",
    "    \n",
    "    "
   ]
  },
  {
   "cell_type": "code",
   "execution_count": 97,
   "id": "59a2b2ab-1a75-4661-84ef-4e2319c81353",
   "metadata": {},
   "outputs": [],
   "source": [
    "def update_distance(graph,current,distance,parent_node):\n",
    "    neighbours = graph.data[current]\n",
    "    weights = graph.weight[current]\n",
    "    for i,node in enumerate(neighbours):\n",
    "        weight = weights[i]\n",
    "        if distance[current] + weight < distance[node]:\n",
    "            distance[node] = distance[current] + weight\n",
    "            if parent_node:\n",
    "                parent_node[node] = current\n",
    "                \n",
    "def next_node_fecth(distance,visited):\n",
    "    min_node = None\n",
    "    min_distance = float('inf')\n",
    "    for node in range (len(distance)):\n",
    "        if not visited[node] and distance[node] < min_distance:\n",
    "            min_node = node\n",
    "            min_distance = distance[node]\n",
    "    return min_node"
   ]
  },
  {
   "cell_type": "code",
   "execution_count": 98,
   "id": "d9bc4b71-f254-4231-9f7c-4ea221cc10fc",
   "metadata": {},
   "outputs": [
    {
     "data": {
      "text/plain": [
       "7"
      ]
     },
     "execution_count": 98,
     "metadata": {},
     "output_type": "execute_result"
    }
   ],
   "source": [
    "num_nodes7 = 6\n",
    "num_edges7 = [(0,1,4),(0,2,2),(1,2,5),(1,3,10),(2,4,3),(4,3,4),(3,5,11)]\n",
    "len(num_edges7)"
   ]
  },
  {
   "cell_type": "code",
   "execution_count": 99,
   "id": "fd2eca57-d9b2-4ce7-9285-93e2127dc043",
   "metadata": {},
   "outputs": [],
   "source": [
    "graph7 = Graph1(num_nodes7,num_edges7,True,True)"
   ]
  },
  {
   "cell_type": "code",
   "execution_count": 100,
   "id": "b82dbd07-68c9-4272-abad-ff033cda533d",
   "metadata": {},
   "outputs": [
    {
     "data": {
      "text/plain": [
       "0 : [(1, 4), (2, 2)] \n",
       "1 : [(2, 5), (3, 10)] \n",
       "2 : [(4, 3)] \n",
       "3 : [(5, 11)] \n",
       "4 : [(3, 4)] \n",
       "5 : [] "
      ]
     },
     "execution_count": 100,
     "metadata": {},
     "output_type": "execute_result"
    }
   ],
   "source": [
    "graph7"
   ]
  },
  {
   "cell_type": "code",
   "execution_count": 101,
   "id": "34301536-6fb9-4250-8b72-1f3a107eb599",
   "metadata": {},
   "outputs": [
    {
     "data": {
      "text/plain": [
       "(20, [None, 0, 0, 4, 2, 3])"
      ]
     },
     "execution_count": 101,
     "metadata": {},
     "output_type": "execute_result"
    }
   ],
   "source": [
    "shortest_path(graph7,0,5)"
   ]
  },
  {
   "cell_type": "code",
   "execution_count": 20,
   "id": "dc4721d7-d394-4d5f-952d-5e33ec7be50c",
   "metadata": {},
   "outputs": [],
   "source": []
  },
  {
   "cell_type": "code",
   "execution_count": null,
   "id": "3ca2a4e1-ff62-45a9-9741-5e122bc37843",
   "metadata": {},
   "outputs": [],
   "source": []
  },
  {
   "cell_type": "code",
   "execution_count": null,
   "id": "290bc0d0-d3ea-4cb0-aea0-36e3e5505d56",
   "metadata": {},
   "outputs": [],
   "source": []
  }
 ],
 "metadata": {
  "kernelspec": {
   "display_name": "Python 3 (ipykernel)",
   "language": "python",
   "name": "python3"
  },
  "language_info": {
   "codemirror_mode": {
    "name": "ipython",
    "version": 3
   },
   "file_extension": ".py",
   "mimetype": "text/x-python",
   "name": "python",
   "nbconvert_exporter": "python",
   "pygments_lexer": "ipython3",
   "version": "3.12.6"
  }
 },
 "nbformat": 4,
 "nbformat_minor": 5
}
