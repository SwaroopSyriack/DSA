{
 "cells": [
  {
   "cell_type": "code",
   "execution_count": 8,
   "id": "643e29e0-96d3-4888-888b-71a8728c2181",
   "metadata": {},
   "outputs": [
    {
     "name": "stdout",
     "output_type": "stream",
     "text": [
      "helloe world\n"
     ]
    }
   ],
   "source": [
    "print(\"helloe world\")"
   ]
  },
  {
   "cell_type": "code",
   "execution_count": 6,
   "id": "7d45d8c5-d1fe-433d-9aa2-c1a4274c3b0c",
   "metadata": {},
   "outputs": [],
   "source": [
    "#linear search\n",
    "class Linear:\n",
    "    def __init__(self,cards,query):\n",
    "        self.cards = cards\n",
    "        self.query = query\n",
    "        \n",
    "    def box(self):\n",
    "        for i in range(len(self.cards)-1):\n",
    "            if self.cards[i] == self.query:\n",
    "                return i\n"
   ]
  },
  {
   "cell_type": "code",
   "execution_count": 7,
   "id": "272cc42a-0b7b-46d8-81f5-71d8de8e6bc5",
   "metadata": {},
   "outputs": [
    {
     "name": "stdout",
     "output_type": "stream",
     "text": [
      "3\n"
     ]
    }
   ],
   "source": [
    "\n",
    "cards = [4,6,7,2,1]\n",
    "query = 2\n",
    "out = Linear(cards,query)\n",
    "x = out.box()\n",
    "print(x)\n",
    "\n"
   ]
  },
  {
   "cell_type": "code",
   "execution_count": 2,
   "id": "8ecea9ee-a599-4064-8d6c-1310228f1abb",
   "metadata": {},
   "outputs": [],
   "source": [
    "#binary search\n",
    "\n",
    "class Binary_:\n",
    "    def __init__(self,cards,query):\n",
    "        self.cards = cards\n",
    "        self.query = query\n",
    "\n",
    "    def test(self)\n",
    "        \n",
    "        \n",
    "    def search_1(self):\n",
    "        low,high = 0,len(self.cards)-1\n",
    "\n",
    "        while low <= high:\n",
    "            mid = (low + high)//2\n",
    "            mid_number = self.cards[mid]\n",
    "\n",
    "            if mid_number == query:\n",
    "                return mid\n",
    "            elif mid_number < query:\n",
    "                high = mid - 1\n",
    "            elif mid_number > query:\n",
    "                low = mid + 1  "
   ]
  },
  {
   "cell_type": "code",
   "execution_count": 3,
   "id": "5a28f182-0cf8-49c2-80ce-f84f9c96034b",
   "metadata": {},
   "outputs": [],
   "source": [
    "cards = [8,7,6,5,4,3]\n",
    "query = 4 \n",
    "out = Binary_(cards,query)\n",
    "new_out = out.search_1()"
   ]
  },
  {
   "cell_type": "code",
   "execution_count": 4,
   "id": "62b36f6e-7a79-4be5-9856-01fca873d05c",
   "metadata": {},
   "outputs": [
    {
     "name": "stdout",
     "output_type": "stream",
     "text": [
      "4\n"
     ]
    }
   ],
   "source": [
    "print(new_out)"
   ]
  },
  {
   "cell_type": "code",
   "execution_count": 20,
   "id": "f28d71de-8bd7-4380-a190-c09a51b9602d",
   "metadata": {},
   "outputs": [],
   "source": [
    "#binary search for reapting elements using class\n",
    "class Binary_:\n",
    "    def __init__(self,cards,query):\n",
    "        self.cards = cards\n",
    "        self.query = query\n",
    "\n",
    "    def test_1(self,mid):\n",
    "        mid_number =  self.cards[mid]\n",
    "\n",
    "        if mid_number == self.query:\n",
    "            if mid - 1 > 0 and self.cards[mid -1] == query :\n",
    "                return \"left\"\n",
    "            else:\n",
    "                return \"found\"\n",
    "        elif mid_number < query:\n",
    "            return \"left\"\n",
    "        else:\n",
    "            return \"right\"\n",
    "        \n",
    "        \n",
    "    def search_1(self):\n",
    "        low,high = 0,len(self.cards)-1\n",
    "\n",
    "        while low <= high:\n",
    "            mid = (low + high)//2\n",
    "            result = self.test_1(mid)\n",
    "\n",
    "            if result == \"found\":\n",
    "                return mid\n",
    "            elif result == \"left\":\n",
    "                high = mid - 1\n",
    "            elif  result == \"right\" :\n",
    "                low = mid + 1  \n"
   ]
  },
  {
   "cell_type": "code",
   "execution_count": 21,
   "id": "74d3e1cb-8592-4594-9fec-86f050aa5234",
   "metadata": {},
   "outputs": [],
   "source": [
    "cards = [8,7,6,5,4,3]\n",
    "query = 4 \n",
    "out = Binary_(cards,query)\n",
    "new_out = out.search_1()"
   ]
  },
  {
   "cell_type": "code",
   "execution_count": 22,
   "id": "5067d6fe-336d-4fe0-bc14-912bb451bf23",
   "metadata": {},
   "outputs": [
    {
     "name": "stdout",
     "output_type": "stream",
     "text": [
      "4\n"
     ]
    }
   ],
   "source": [
    "print(new_out)"
   ]
  },
  {
   "cell_type": "code",
   "execution_count": 18,
   "id": "e8945a50-0a61-42b8-899a-1fecd22e37a4",
   "metadata": {},
   "outputs": [],
   "source": [
    "# Above problem without using class\n",
    "      \n",
    "def test_1(mid):\n",
    "    mid_number =  cards[mid]\n",
    "\n",
    "    if mid_number == query:\n",
    "        if (mid-1) > 0 and cards[mid-1] == query :\n",
    "            return \"left\"\n",
    "        else:\n",
    "            return \"found\"\n",
    "    elif mid_number < query:\n",
    "        return \"left\"\n",
    "    else:\n",
    "        return \"right\"\n",
    "        \n",
    "def search_1(cards,query):\n",
    "    low,high = 0,len(cards)-1\n",
    "\n",
    "    while low <= high:\n",
    "        mid = (low + high)//2\n",
    "        result = test_1(mid)\n",
    "        if result == \"found\":\n",
    "            return mid\n",
    "        elif result == \"left\":\n",
    "            high = mid - 1\n",
    "        elif  result == \"right\" :\n",
    "            low = mid + 1  \n",
    "    \n",
    "    "
   ]
  },
  {
   "cell_type": "code",
   "execution_count": 24,
   "id": "6daba933-b285-48b8-8ffc-a451ddc0d340",
   "metadata": {},
   "outputs": [
    {
     "name": "stdout",
     "output_type": "stream",
     "text": [
      "right\n",
      "6\n",
      "found\n",
      "4\n",
      "4\n"
     ]
    }
   ],
   "source": [
    "cards = [8,7,6,5,4,3]\n",
    "query = 4 \n",
    "out = search_1(cards,query)\n",
    "print(out)"
   ]
  },
  {
   "cell_type": "code",
   "execution_count": 27,
   "id": "e8f30fce-8fa4-4a79-897d-8025d82786eb",
   "metadata": {},
   "outputs": [],
   "source": [
    "test = {\n",
    "    'inputs':{\n",
    "        'nums':[8,7,6,5,4,3]\n",
    "    },\n",
    "    'output':4\n",
    "    \n",
    "    \n",
    "}\n"
   ]
  },
  {
   "cell_type": "code",
   "execution_count": 30,
   "id": "7058539d-a4e4-4614-b782-6cf84d8a1976",
   "metadata": {},
   "outputs": [
    {
     "name": "stdout",
     "output_type": "stream",
     "text": [
      "right\n",
      "6\n",
      "found\n",
      "4\n",
      "4\n"
     ]
    }
   ],
   "source": [
    "cards = test['inputs']['nums']\n",
    "query = 4\n",
    "out = search_1(cards,query)\n",
    "print(out)"
   ]
  },
  {
   "cell_type": "code",
   "execution_count": 39,
   "id": "41658ced-2a19-4917-827e-3b519237c12a",
   "metadata": {},
   "outputs": [],
   "source": [
    "test_case = {\n",
    "    'inputs':{'nums':[19,25,29,3,5,6,7,9,11,14]},\n",
    "    'query' : 6\n",
    "}\n",
    "    "
   ]
  },
  {
   "cell_type": "code",
   "execution_count": 56,
   "id": "561e8374-1822-4e97-b135-0da8fa269134",
   "metadata": {},
   "outputs": [],
   "source": [
    "# in this given program to the array was sorted before roatation , to find the number of roation find the smallest number and\n",
    "#its index this is done using linear search\n",
    "def find_rot(nums,query):\n",
    "    position = 0\n",
    "\n",
    "    while position < len(nums):\n",
    "        if position > 0 and nums[position] < nums[position - 1]:\n",
    "            return position\n",
    "        \n",
    "        position += 1\n",
    "        \n",
    "    return 0\n",
    "        "
   ]
  },
  {
   "cell_type": "code",
   "execution_count": 57,
   "id": "e56656aa-2429-4bb2-ab93-c98e02e16297",
   "metadata": {},
   "outputs": [
    {
     "name": "stdout",
     "output_type": "stream",
     "text": [
      "The position is : 3\n"
     ]
    }
   ],
   "source": [
    "nums = test_case['inputs']['nums']\n",
    "query = test_case['query']\n",
    "out = find_rot(nums,query)\n",
    "print(\"The position is :\",out)"
   ]
  },
  {
   "cell_type": "code",
   "execution_count": 65,
   "id": "2658ab50-5e4e-4624-8313-f6ec77ce5b0e",
   "metadata": {},
   "outputs": [],
   "source": [
    "# a simple program to learn about classes in python\n",
    "\n",
    "class Department:\n",
    "    def __init__(self,name,subject,department):\n",
    "        self.name = name\n",
    "        self.subject = subject\n",
    "        self.department = department\n",
    "\n",
    "    def seminar(self,guest_name):\n",
    "        print(\"HI students i am {} from {} and todays guest is {}\".format(self.name,self.department,guest_name))\n",
    "        \n",
    "    "
   ]
  },
  {
   "cell_type": "code",
   "execution_count": 66,
   "id": "f37b7ea3-19ff-4f3f-96ac-d89bd3909ddb",
   "metadata": {},
   "outputs": [
    {
     "name": "stdout",
     "output_type": "stream",
     "text": [
      "HI students i am Tomin from Physics and todays guest is Kabilan\n"
     ]
    }
   ],
   "source": [
    "seminar_life = Department(\"Tomin\",\"Quatum Mechanics\",\"Physics\")\n",
    "seminar_life.seminar(\"Kabilan\")"
   ]
  },
  {
   "cell_type": "code",
   "execution_count": 9,
   "id": "55a90ba8-f292-476f-96e2-66349a9f4012",
   "metadata": {},
   "outputs": [],
   "source": [
    "# Implmenting Binary Search tree\n",
    "\n",
    "\"\"\" We are given a problem that there are 10 M uers and to insert update and list there name , username , email\"\"\"\n",
    "\n",
    "class User:\n",
    "    def __init__(self,name,username,email):\n",
    "        self.name = name\n",
    "        self.username = username\n",
    "        self.email = email"
   ]
  },
  {
   "cell_type": "code",
   "execution_count": 10,
   "id": "a879439e-e1b1-499a-bbca-557e07fb5d9f",
   "metadata": {},
   "outputs": [],
   "source": [
    "akash = User(\"akash\",\"akash01\",\"akashsalshankar@gmail.com\")\n",
    "kabilan = User(\"kabilan\",\"kabilan01\",\"kabilanmurali@gmail.com\")\n",
    "umman = User(\"Umman\",\"Umman01\",\"ummanThomas@gmail.com\")\n",
    "users = [akash,kabilan,umman]"
   ]
  },
  {
   "cell_type": "code",
   "execution_count": 11,
   "id": "d45f49b2-dec0-4ca2-9e37-9505d8ca6702",
   "metadata": {},
   "outputs": [
    {
     "data": {
      "text/plain": [
       "<__main__.User at 0x1e6d00f1820>"
      ]
     },
     "execution_count": 11,
     "metadata": {},
     "output_type": "execute_result"
    }
   ],
   "source": [
    "users[0]"
   ]
  },
  {
   "cell_type": "code",
   "execution_count": 12,
   "id": "27ca01b6-f3d1-4d79-a94b-26187c3cebe8",
   "metadata": {},
   "outputs": [],
   "source": [
    "# code for implementing insertion , updation ,listing, and searching using brute force method :\n",
    "\n",
    "class UserDatabase:\n",
    "    def __init__(self):\n",
    "        self.users = []\n",
    "\n",
    "    def insertion(self,user):\n",
    "        i = 0\n",
    "        while i < len(self.users):\n",
    "            if self.users[i].username > user.username:\n",
    "                break\n",
    "            i += 1\n",
    "        print(i)\n",
    "        self.users.insert(i,user)\n",
    "        print(self.users)\n",
    "    \n",
    "    def find_user(self,username):\n",
    "        for user in users:\n",
    "            if user.username == username:\n",
    "                return username\n",
    "    def update_user(self,user):\n",
    "        pass\n",
    "        \n",
    "        \n",
    "\n",
    "    def list_all(self):\n",
    "        return self.users\n",
    "    \n",
    "            \n",
    "        \n",
    "        \n",
    "\n"
   ]
  },
  {
   "cell_type": "code",
   "execution_count": 13,
   "id": "ad92940b-afe9-4c81-b364-0b8f46bb565c",
   "metadata": {},
   "outputs": [],
   "source": [
    "database = UserDatabase()"
   ]
  },
  {
   "cell_type": "code",
   "execution_count": 14,
   "id": "de6e3c87-5fbc-4b3b-bebe-bf0ab0570e49",
   "metadata": {},
   "outputs": [
    {
     "name": "stdout",
     "output_type": "stream",
     "text": [
      "0\n",
      "[<__main__.User object at 0x000001E6D00F1820>]\n",
      "1\n",
      "[<__main__.User object at 0x000001E6D00F1820>, <__main__.User object at 0x000001E6CFF26D20>]\n"
     ]
    }
   ],
   "source": [
    "database.insertion(akash)\n",
    "database.insertion(kabilan)"
   ]
  },
  {
   "cell_type": "code",
   "execution_count": 15,
   "id": "4e0c41f8-a632-466e-9ab0-1ba5fcc2370c",
   "metadata": {},
   "outputs": [
    {
     "data": {
      "text/plain": [
       "[<__main__.User at 0x1e6d00f1820>, <__main__.User at 0x1e6cff26d20>]"
      ]
     },
     "execution_count": 15,
     "metadata": {},
     "output_type": "execute_result"
    }
   ],
   "source": [
    "database.list_all()"
   ]
  },
  {
   "cell_type": "code",
   "execution_count": 16,
   "id": "cf6e033e-1359-4329-8d9f-b6534a6992c8",
   "metadata": {},
   "outputs": [
    {
     "data": {
      "text/plain": [
       "'akash01'"
      ]
     },
     "execution_count": 16,
     "metadata": {},
     "output_type": "execute_result"
    }
   ],
   "source": [
    "out  = database.find_user(\"akash01\")\n",
    "out\n"
   ]
  },
  {
   "cell_type": "code",
   "execution_count": 17,
   "id": "2d0efd15-2616-4268-9cb4-f722caf74235",
   "metadata": {},
   "outputs": [
    {
     "name": "stdout",
     "output_type": "stream",
     "text": [
      "akash01\n"
     ]
    }
   ],
   "source": [
    "print(out)"
   ]
  },
  {
   "cell_type": "code",
   "execution_count": 1,
   "id": "e71fe8c8-fa4e-4aef-a818-e95f5c1e7849",
   "metadata": {},
   "outputs": [],
   "source": [
    "# Here onwards we will learn about Binary trees and balanced binary tress\n",
    "\n",
    "#Here we will create a simple binary tree\n",
    "\n",
    "class TreeNode:\n",
    "    def __init__(self,key):\n",
    "        self.key = key\n",
    "        self.left = None\n",
    "        self.right = None"
   ]
  },
  {
   "cell_type": "code",
   "execution_count": 2,
   "id": "8c8b2abd-e139-4dd1-aa75-056bccac41ea",
   "metadata": {},
   "outputs": [],
   "source": [
    "node0 = TreeNode(3)\n",
    "node1 = TreeNode(4)\n",
    "node2 = TreeNode(5)"
   ]
  },
  {
   "cell_type": "code",
   "execution_count": 3,
   "id": "787061a6-e924-4a73-b1be-b5956a8138f1",
   "metadata": {},
   "outputs": [
    {
     "data": {
      "text/plain": [
       "<__main__.TreeNode at 0x18797d4c8c0>"
      ]
     },
     "execution_count": 3,
     "metadata": {},
     "output_type": "execute_result"
    }
   ],
   "source": [
    "node0"
   ]
  },
  {
   "cell_type": "code",
   "execution_count": 4,
   "id": "095d9d07-013a-4b4d-bb0d-33fd3ae6288f",
   "metadata": {},
   "outputs": [
    {
     "data": {
      "text/plain": [
       "3"
      ]
     },
     "execution_count": 4,
     "metadata": {},
     "output_type": "execute_result"
    }
   ],
   "source": [
    "node0.key"
   ]
  },
  {
   "cell_type": "code",
   "execution_count": 5,
   "id": "58824faf-3553-44bb-984e-b692f7b1aa08",
   "metadata": {},
   "outputs": [],
   "source": [
    "node0.left =node1\n",
    "node0.right = node2"
   ]
  },
  {
   "cell_type": "code",
   "execution_count": 6,
   "id": "8f81003d-09c9-4bf1-99bc-e74e18c56dc9",
   "metadata": {},
   "outputs": [
    {
     "data": {
      "text/plain": [
       "<__main__.TreeNode at 0x18799202330>"
      ]
     },
     "execution_count": 6,
     "metadata": {},
     "output_type": "execute_result"
    }
   ],
   "source": [
    "node0.left"
   ]
  },
  {
   "cell_type": "code",
   "execution_count": 7,
   "id": "1d477b99-2234-4dd9-a95b-3e52ebddcf64",
   "metadata": {},
   "outputs": [],
   "source": [
    "tree_tuple = ((1,3,None),2,((None,3,4),5,(6,7,8)))\n",
    "\n",
    "def parse_tuple(data):\n",
    "    print(data)\n",
    "    if isinstance(data,tuple) and len(data) <= 3:\n",
    "        node = TreeNode(data[1])\n",
    "        node.left = parse_tuple(data[0])\n",
    "        node.right = parse_tuple(data[2])\n",
    "\n",
    "    elif data is None:\n",
    "        node = None\n",
    "    else:\n",
    "        node = TreeNode(data)\n",
    "    return node\n",
    "    \n",
    "    "
   ]
  },
  {
   "cell_type": "code",
   "execution_count": 8,
   "id": "0db56ee2-ddd5-4e4c-aaf8-d8c86956aac0",
   "metadata": {},
   "outputs": [
    {
     "name": "stdout",
     "output_type": "stream",
     "text": [
      "((1, 3, None), 2, ((None, 3, 4), 5, (6, 7, 8)))\n",
      "(1, 3, None)\n",
      "1\n",
      "None\n",
      "((None, 3, 4), 5, (6, 7, 8))\n",
      "(None, 3, 4)\n",
      "None\n",
      "4\n",
      "(6, 7, 8)\n",
      "6\n",
      "8\n"
     ]
    }
   ],
   "source": [
    "tree1 = parse_tuple(tree_tuple)"
   ]
  },
  {
   "cell_type": "code",
   "execution_count": 26,
   "id": "748dacff-1bad-4ea7-a9ed-9d028b13183b",
   "metadata": {},
   "outputs": [],
   "source": [
    "# a function to convert the tree to a tuple\n",
    "def tree_to_tuple(node):\n",
    "    if isinstance(node,TreeNode):\n",
    "        if node.left is None and node.right is None:\n",
    "            return node.key\n",
    "        else:\n",
    "            return(\n",
    "                tree_to_tuple(node.left),\n",
    "                node.key,\n",
    "                tree_to_tuple(node.right)\n",
    "            )\n",
    "        "
   ]
  },
  {
   "cell_type": "code",
   "execution_count": 27,
   "id": "d1195bf4-6d40-4bd8-956a-655722ac4993",
   "metadata": {},
   "outputs": [
    {
     "name": "stdout",
     "output_type": "stream",
     "text": [
      "((1, 3, None), 2, ((None, 3, 4), 5, (6, 7, 8)))\n"
     ]
    }
   ],
   "source": [
    "out = tree_to_tuple(tree1)\n",
    "print(out)"
   ]
  },
  {
   "cell_type": "code",
   "execution_count": 28,
   "id": "31a266a2-5047-4b1d-86b8-bc590ccdf24c",
   "metadata": {},
   "outputs": [],
   "source": [
    "def display_tree(node,space='\\t',level=0):\n",
    "    if node is None:\n",
    "        print(space*level+\"@\")\n",
    "        return 0\n",
    "    if node.left is None and node.right is None:\n",
    "        print(space*level+str(node.key))\n",
    "        return 0\n",
    "        \n",
    "    display_tree(node.left,space,level+1)\n",
    "    print(space*level  +str(node.key))\n",
    "    display_tree(node.right,space,level+1)\n",
    "    "
   ]
  },
  {
   "cell_type": "code",
   "execution_count": 29,
   "id": "225ba07a-1922-41e3-ad27-e67df8d9e4a9",
   "metadata": {},
   "outputs": [
    {
     "name": "stdout",
     "output_type": "stream",
     "text": [
      "\t\t1\n",
      "\t3\n",
      "\t\t@\n",
      "2\n",
      "\t\t\t@\n",
      "\t\t3\n",
      "\t\t\t4\n",
      "\t5\n",
      "\t\t\t6\n",
      "\t\t7\n",
      "\t\t\t8\n"
     ]
    }
   ],
   "source": [
    "display_tree(tree1)"
   ]
  },
  {
   "cell_type": "code",
   "execution_count": 30,
   "id": "013f9331-954a-48cb-bc98-dc9d50fe9c0c",
   "metadata": {},
   "outputs": [],
   "source": [
    "# (ASSIGN.1.1)do in order,post order and pre order traversal assignment\n",
    "def in_order(node):\n",
    "    if node is None:\n",
    "        return []\n",
    "    return (\n",
    "        in_order(node.left)+\n",
    "        [node.key]+\n",
    "        in_order(node.right)\n",
    "    )\n",
    "\n",
    "def pre_order(node):\n",
    "    if node is None:\n",
    "        return []\n",
    "    return ([node.key] + pre_order(node.left) + pre_order(node.right))\n",
    "\n",
    "def post_order(node):\n",
    "    if node is None:\n",
    "        return []\n",
    "    return (post_order(node.left) + post_order(node.right) + [node.key] )\n",
    "    \n",
    "    "
   ]
  },
  {
   "cell_type": "code",
   "execution_count": 31,
   "id": "7361a941-bc97-4162-a252-2c617b25e31d",
   "metadata": {},
   "outputs": [
    {
     "name": "stdout",
     "output_type": "stream",
     "text": [
      "the in order [1, 3, 4, 3, 6, 8, 7, 5, 2]\n"
     ]
    }
   ],
   "source": [
    "out = post_order(tree1)\n",
    "print(\"the in order\",out)"
   ]
  },
  {
   "cell_type": "code",
   "execution_count": 32,
   "id": "26617585-7bfb-436c-b9a7-72425fbb6b97",
   "metadata": {},
   "outputs": [],
   "source": [
    "# finding the height of the tree\n",
    "def tree_height(node):\n",
    "    if node is None:\n",
    "        return 0\n",
    "    return 1+max(tree_height(node.left),tree_height(node.right))"
   ]
  },
  {
   "cell_type": "code",
   "execution_count": 33,
   "id": "19f00eb1-46e8-4098-945d-523f635d9ffa",
   "metadata": {},
   "outputs": [
    {
     "data": {
      "text/plain": [
       "4"
      ]
     },
     "execution_count": 33,
     "metadata": {},
     "output_type": "execute_result"
    }
   ],
   "source": [
    "tree_height(tree1)"
   ]
  },
  {
   "cell_type": "code",
   "execution_count": 34,
   "id": "3ce34133-bf53-4fc3-8bca-cb4787959a66",
   "metadata": {},
   "outputs": [],
   "source": [
    "# Finding the number of nodes in a binary tree\n",
    "def tree_size(node):\n",
    "    if node is None:\n",
    "        return 0\n",
    "    return 1+ tree_height(node.left)+tree_height(node.right)"
   ]
  },
  {
   "cell_type": "code",
   "execution_count": 35,
   "id": "1a2ab466-1744-458e-81c8-2add64d9ae3b",
   "metadata": {},
   "outputs": [
    {
     "data": {
      "text/plain": [
       "6"
      ]
     },
     "execution_count": 35,
     "metadata": {},
     "output_type": "execute_result"
    }
   ],
   "source": [
    "tree_size(tree1)"
   ]
  },
  {
   "cell_type": "code",
   "execution_count": null,
   "id": "b2fee952-0461-4f6d-99b7-27a60a8004ba",
   "metadata": {},
   "outputs": [],
   "source": [
    "\n",
    "  "
   ]
  },
  {
   "cell_type": "code",
   "execution_count": 36,
   "id": "3860334f-2813-4924-bbf4-8c81ce96ce1e",
   "metadata": {},
   "outputs": [],
   "source": [
    "#(ASSIGN.1.3)define a function that checks if the given tree is a binary search tree and find the max and min value in the tree\n",
    "def remove_none(nums):\n",
    "    return [x for x in nums if x is not None]\n",
    "def is_bst(node):\n",
    "    if node is None:\n",
    "        return True,None,None\n",
    "    is_bst_l,min_l,max_l = is_bst(node.left)\n",
    "    is_bst_r,min_r,max_r = is_bst(node.right)\n",
    "\n",
    "    is_bst_node = (is_bst_l and is_bst_r and (max_l is None or node.key > max_l) and (min_r is None or node.key < min_r))\n",
    "\n",
    "    min_key = min(remove_none([min_l,node.key,min_r]))\n",
    "    max_key = max(remove_none([max_l,node.key,max_r]))\n",
    "\n",
    "    print(node.key,min_key,max_key)\n",
    "\n",
    "    return is_bst_node,min_key,max_key"
   ]
  },
  {
   "cell_type": "code",
   "execution_count": 37,
   "id": "e36c9516-49e6-4ad2-b3fd-efe9a9db3096",
   "metadata": {},
   "outputs": [
    {
     "name": "stdout",
     "output_type": "stream",
     "text": [
      "((1, 3, None), 2, ((None, 3, 4), 5, (6, 7, 8)))\n",
      "(1, 3, None)\n",
      "1\n",
      "None\n",
      "((None, 3, 4), 5, (6, 7, 8))\n",
      "(None, 3, 4)\n",
      "None\n",
      "4\n",
      "(6, 7, 8)\n",
      "6\n",
      "8\n"
     ]
    }
   ],
   "source": [
    "tree1 = parse_tuple(tree_tuple)\n"
   ]
  },
  {
   "cell_type": "code",
   "execution_count": 38,
   "id": "72190d8f-b2ac-413b-83a5-0b00e0122e0d",
   "metadata": {},
   "outputs": [
    {
     "name": "stdout",
     "output_type": "stream",
     "text": [
      "1 1 1\n",
      "3 1 3\n",
      "4 4 4\n",
      "3 3 4\n",
      "6 6 6\n",
      "8 8 8\n",
      "7 6 8\n",
      "5 3 8\n",
      "2 1 8\n"
     ]
    },
    {
     "data": {
      "text/plain": [
       "(False, 1, 8)"
      ]
     },
     "execution_count": 38,
     "metadata": {},
     "output_type": "execute_result"
    }
   ],
   "source": [
    "is_bst(tree1)\n"
   ]
  },
  {
   "cell_type": "code",
   "execution_count": 39,
   "id": "bfae3ed9-9458-444d-a85e-0ae8997c536b",
   "metadata": {},
   "outputs": [
    {
     "name": "stdout",
     "output_type": "stream",
     "text": [
      "\t\t1\n",
      "\t3\n",
      "\t\t@\n",
      "2\n",
      "\t\t\t@\n",
      "\t\t3\n",
      "\t\t\t4\n",
      "\t5\n",
      "\t\t\t6\n",
      "\t\t7\n",
      "\t\t\t8\n"
     ]
    }
   ],
   "source": [
    "display_tree(tree1)"
   ]
  },
  {
   "cell_type": "code",
   "execution_count": 40,
   "id": "1ddd16ab-6b43-4775-80c0-e0846c463848",
   "metadata": {},
   "outputs": [],
   "source": [
    "#(ASSIGN.1.4)Create a BST with key value pair and do the insertion\n",
    "\n",
    "class BstNode:\n",
    "    def __init__(self,key,value):\n",
    "        self.key = key\n",
    "        self.value = value\n",
    "        self.left = None\n",
    "        self.right = None\n",
    "        self.parent = None\n"
   ]
  },
  {
   "cell_type": "code",
   "execution_count": 41,
   "id": "31d938c4-ea1d-43b6-bccc-1ae576e17f1a",
   "metadata": {},
   "outputs": [],
   "source": [
    "tree3 = BstNode(akash.username,akash)"
   ]
  },
  {
   "cell_type": "code",
   "execution_count": 42,
   "id": "bceceb42-7592-451a-be7e-85da7e155a0f",
   "metadata": {},
   "outputs": [],
   "source": [
    "tree3.left = BstNode(kabilan.username,kabilan)\n",
    "tree3.parent = tree3"
   ]
  },
  {
   "cell_type": "code",
   "execution_count": 43,
   "id": "41c78568-45c1-40f1-9a96-c76abf266bc1",
   "metadata": {},
   "outputs": [],
   "source": [
    "tree3.right = BstNode(umman.username,umman)\n",
    "tree3.parent = tree3"
   ]
  },
  {
   "cell_type": "code",
   "execution_count": 44,
   "id": "24b3c030-7f36-4f55-8a70-f444d76ad4be",
   "metadata": {},
   "outputs": [
    {
     "name": "stdout",
     "output_type": "stream",
     "text": [
      "\tkabilan01\n",
      "akash01\n",
      "\tUmman01\n"
     ]
    }
   ],
   "source": [
    "display_tree(tree3)"
   ]
  },
  {
   "cell_type": "code",
   "execution_count": 45,
   "id": "5562dd0c-9585-49f8-9404-62425cf0045e",
   "metadata": {},
   "outputs": [],
   "source": [
    "def insert_(node,key,value):\n",
    "    if node is None:\n",
    "        node = BstNode(key,value)\n",
    "    elif key < node.key:\n",
    "        node.left = insert_(node.left,key,value)\n",
    "        node.left.parent = node\n",
    "    elif key > node.key:\n",
    "        node.right = insert_(node.right,key,value)\n",
    "        node.right.parent = node\n",
    "    return node\n",
    "        \n",
    "        "
   ]
  },
  {
   "cell_type": "code",
   "execution_count": 46,
   "id": "67a3c0f4-e593-4c18-9052-f0063a953a60",
   "metadata": {},
   "outputs": [
    {
     "data": {
      "text/plain": [
       "<__main__.BstNode at 0x1e6d00f6ed0>"
      ]
     },
     "execution_count": 46,
     "metadata": {},
     "output_type": "execute_result"
    }
   ],
   "source": [
    "tree = insert_(None,akash.username,akash)\n",
    "insert_(tree,umman.username,umman)\n",
    "insert_(tree,kabilan.username,kabilan)\n",
    "\n",
    "# The order of insertion of nodes is important since it can affect the structurre of the tree and can result in skewed or unbalanced tree"
   ]
  },
  {
   "cell_type": "code",
   "execution_count": 47,
   "id": "af581d37-c9db-44c0-b7b9-c5d5d64a4a6b",
   "metadata": {},
   "outputs": [
    {
     "name": "stdout",
     "output_type": "stream",
     "text": [
      "\tUmman01\n",
      "akash01\n",
      "\tkabilan01\n"
     ]
    }
   ],
   "source": [
    "display_tree(tree)"
   ]
  },
  {
   "cell_type": "code",
   "execution_count": 48,
   "id": "03645ce9-e925-4d1e-b705-4075bf28ed32",
   "metadata": {},
   "outputs": [],
   "source": [
    "#(ASSIGN.1.5) Create a unbalanced binary tree and dispaly it\n",
    "#sol is explained above"
   ]
  },
  {
   "cell_type": "code",
   "execution_count": 56,
   "id": "4a856e09-ea4a-4ec0-86cd-63aa908f64ff",
   "metadata": {},
   "outputs": [],
   "source": [
    "#(ASSIGN.1.6)Find the value associated with a given key in BST\n",
    "\n",
    "def find_(node,key):\n",
    "    if key == node.key:\n",
    "        return node\n",
    "    if key < node.key:\n",
    "        return find_(node.left,key)\n",
    "    if key > node.key:\n",
    "        return find_(node.right,key)\n",
    "    "
   ]
  },
  {
   "cell_type": "code",
   "execution_count": 58,
   "id": "80fd6be2-18d3-4a37-a97d-c6434e30cc2d",
   "metadata": {},
   "outputs": [
    {
     "data": {
      "text/plain": [
       "('Umman01', <__main__.User at 0x1e6cffe61e0>)"
      ]
     },
     "execution_count": 58,
     "metadata": {},
     "output_type": "execute_result"
    }
   ],
   "source": [
    "node = find_(tree,umman.username)\n",
    "node.key,node.value"
   ]
  },
  {
   "cell_type": "code",
   "execution_count": 59,
   "id": "0d5477d8-1f2c-4d46-b3ac-5115d3b22b6f",
   "metadata": {},
   "outputs": [],
   "source": [
    "#updating trees in a binary search tree\n",
    "def update_(node,key,value):\n",
    "    target = find_(node,key)\n",
    "    if target is not None:\n",
    "        target.value = value"
   ]
  },
  {
   "cell_type": "code",
   "execution_count": 52,
   "id": "93a20219-b8ba-4739-920a-04faea77d369",
   "metadata": {},
   "outputs": [],
   "source": [
    "def list_all(node):\n",
    "    if node is None:\n",
    "        return []\n",
    "    return list_all(node.left)+[(node.key,node.value)]+list_all(node.right)"
   ]
  },
  {
   "cell_type": "code",
   "execution_count": 53,
   "id": "d1ca9b93-cbd8-468e-aa6e-f3b53580e78a",
   "metadata": {},
   "outputs": [
    {
     "data": {
      "text/plain": [
       "[('Umman01', <__main__.User at 0x1e6cffe61e0>),\n",
       " ('akash01', <__main__.User at 0x1e6d00f1820>),\n",
       " ('kabilan01', <__main__.User at 0x1e6cff26d20>)]"
      ]
     },
     "execution_count": 53,
     "metadata": {},
     "output_type": "execute_result"
    }
   ],
   "source": [
    "list_all(tree)"
   ]
  },
  {
   "cell_type": "code",
   "execution_count": 61,
   "id": "bae31159-a8b8-4839-9413-2c24664f9a91",
   "metadata": {},
   "outputs": [],
   "source": [
    "# Code to check weather The given bst is balanced or not\n",
    "\n",
    "def is_balanced(node):\n",
    "    if node is None:\n",
    "        return True,0\n",
    "    balanced_l,height_l = is_balanced(node.left)\n",
    "    balanced_r,height_r = is_balanced(node.right)\n",
    "    balanced = balanced_l and  balanced_r and abs(height_l - height_r) <= 1\n",
    "    height = 1 + max(height_l,height_r)\n",
    "    return balanced,height\n",
    "    \n",
    "    \n",
    "    "
   ]
  },
  {
   "cell_type": "code",
   "execution_count": 2,
   "id": "266b8648-cfd2-42c0-8d6f-052a0f01e3b3",
   "metadata": {},
   "outputs": [],
   "source": [
    "#create a balanced bst from a sorted array \n",
    "\n",
    "def make_balanced_bst(data,lo=0,high=None,parent=None):\n",
    "    if high == None:\n",
    "        high = len(data) - 1\n",
    "    if lo > high:\n",
    "        return None\n",
    "    mid = lo + high // 2\n",
    "    key,value = data[mid]\n",
    "\n",
    "    root  = BstNode(key,value)\n",
    "    root.parent = parent\n",
    "    root.left = make_balanced_bst(data,lo,mid-1,parent)\n",
    "    root.right = make_balanced_bst(data,mid+1,high,parent)\n",
    "\n",
    "    return root\n",
    "\n",
    "    \n",
    "    \n",
    "        \n",
    "    "
   ]
  },
  {
   "cell_type": "code",
   "execution_count": null,
   "id": "abd4229c-95f7-4fe4-a88c-810ef7d68fb1",
   "metadata": {},
   "outputs": [],
   "source": [
    "#To balance a unbalanced binary tree first do inorder traversel that is list_all function that we have above and then do make_balanced binary tree\n",
    "# the inorder traversal gives a sorted array"
   ]
  },
  {
   "cell_type": "code",
   "execution_count": 17,
   "id": "a889c634-cded-4443-b645-25f8560eb801",
   "metadata": {},
   "outputs": [],
   "source": [
    "\n",
    "def check(n):\n",
    "    if n%3 ==0  and n%5 ==0:\n",
    "        return True\n",
    "    elif n%3 != 0 and n%5 ==0:\n",
    "        return \"is 5\"\n",
    "    else:\n",
    "        return False\n",
    "        "
   ]
  },
  {
   "cell_type": "code",
   "execution_count": 19,
   "id": "62fce988-1825-4a1a-ac44-52e32fa56365",
   "metadata": {},
   "outputs": [
    {
     "data": {
      "text/plain": [
       "'is 5'"
      ]
     },
     "execution_count": 19,
     "metadata": {},
     "output_type": "execute_result"
    }
   ],
   "source": [
    "check(10)"
   ]
  },
  {
   "cell_type": "code",
   "execution_count": 3,
   "id": "43ce3498-3f58-4996-a7f6-e8fad28b4ddf",
   "metadata": {},
   "outputs": [],
   "source": [
    "class Treemap_():\n",
    "    def __init__(self):\n",
    "        self.root = None\n",
    "    def __setitem__(self,key,value):\n",
    "        node = find(self.root,key)\n",
    "        if not node:\n",
    "            self.root = insert(self.root,key)\n",
    "            self.root = make_balanced_bst(self.root)\n",
    "        else:\n",
    "            self.root = update(self.root,key)\n",
    "    def __getitem__(self,key,value):\n",
    "        node = find(self.root,key)\n",
    "        return node.value if node else None\n",
    "    def __iter__(self):\n",
    "        return (x for x in list_all(self.root))\n",
    "        \n",
    "       \n",
    "    \n",
    "    "
   ]
  },
  {
   "cell_type": "code",
   "execution_count": null,
   "id": "490416ff-bbf7-4c71-9561-b90815e057fe",
   "metadata": {},
   "outputs": [],
   "source": []
  },
  {
   "cell_type": "code",
   "execution_count": null,
   "id": "4cd40b5d-b350-4fb0-83ff-29d066864cba",
   "metadata": {},
   "outputs": [],
   "source": []
  }
 ],
 "metadata": {
  "kernelspec": {
   "display_name": "Python 3 (ipykernel)",
   "language": "python",
   "name": "python3"
  },
  "language_info": {
   "codemirror_mode": {
    "name": "ipython",
    "version": 3
   },
   "file_extension": ".py",
   "mimetype": "text/x-python",
   "name": "python",
   "nbconvert_exporter": "python",
   "pygments_lexer": "ipython3",
   "version": "3.12.6"
  }
 },
 "nbformat": 4,
 "nbformat_minor": 5
}
