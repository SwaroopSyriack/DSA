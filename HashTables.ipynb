{
 "cells": [
  {
   "cell_type": "code",
   "execution_count": 13,
   "id": "206b431a-38c0-4390-8dab-c553d75cb789",
   "metadata": {},
   "outputs": [],
   "source": [
    "data_list = [None]*48"
   ]
  },
  {
   "cell_type": "code",
   "execution_count": 14,
   "id": "2019f1ab-d754-4b62-a36b-54e42d81f0d4",
   "metadata": {},
   "outputs": [],
   "source": [
    "def get_index(data_list,item):\n",
    "    result = 0\n",
    "    for character in item:\n",
    "        a_number = ord(character)\n",
    "        result += a_number\n",
    "    g_number = result % len(data_list)\n",
    "    return g_number\n",
    "    "
   ]
  },
  {
   "cell_type": "code",
   "execution_count": 15,
   "id": "7c1311a8-57c3-4cf9-a4de-8ec4765b6ca7",
   "metadata": {},
   "outputs": [],
   "source": [
    "key , value  = \"Aakask\",\"7760980\""
   ]
  },
  {
   "cell_type": "code",
   "execution_count": 16,
   "id": "16f4fef5-e393-44f3-8770-538f423b2fef",
   "metadata": {},
   "outputs": [],
   "source": [
    "idx = get_index(data_list,key)"
   ]
  },
  {
   "cell_type": "code",
   "execution_count": 17,
   "id": "e6d2daca-8551-47b7-a052-7133a07f9435",
   "metadata": {},
   "outputs": [
    {
     "data": {
      "text/plain": [
       "['Aakask']"
      ]
     },
     "execution_count": 17,
     "metadata": {},
     "output_type": "execute_result"
    }
   ],
   "source": [
    "#inserting the value using the key into the data list\n",
    "data_list[idx] = (key,value)\n",
    "#Finding the index\n",
    "idx = get_index(data_list,\"Aakash\")\n",
    "#list the key value pairs\n",
    "pairs = [kv[0] for kv in data_list if kv is not None]\n",
    "pairs"
   ]
  },
  {
   "cell_type": "code",
   "execution_count": 64,
   "id": "65495203-c6d7-4eba-881b-904472990fe9",
   "metadata": {},
   "outputs": [],
   "source": [
    "#crearting a class to create a hash function\n",
    "\n",
    "def get_index_(data_list,item):\n",
    "    result = 0\n",
    "    for character in item:\n",
    "        a_number = ord(character)\n",
    "        result += a_number\n",
    "    g_number = result % len(data_list)\n",
    "    return g_number\n",
    "    \n",
    "\n",
    "class BasicHashTable:\n",
    "    def __init__(self,max_item = 900):\n",
    "        self.data_list = [None]*max_item\n",
    "    def insert(self,key,value):\n",
    "        idx = get_index_(self.data_list,key)\n",
    "        self.data_list[idx] = key,value\n",
    "    def find(self,key):\n",
    "        idx = get_index_(self.data_list,key)\n",
    "        k = self.data_list[idx]\n",
    "        if k is None:\n",
    "            raise(\"Index not Found\")\n",
    "        else:\n",
    "            key,value = k\n",
    "            return k  \n",
    "    def update(self,key,value):\n",
    "        idx = get_index(self.data_list,key)\n",
    "        data_list[idx] = key,value\n",
    "    def list_all(self):\n",
    "        return [k[0] for k in self.data_list if k is not None]\n",
    "\n"
   ]
  },
  {
   "cell_type": "code",
   "execution_count": 55,
   "id": "0b3d7319-f2f0-4e61-b1ce-0d20b71e2e11",
   "metadata": {},
   "outputs": [],
   "source": [
    "basic_table = BasicHashTable()"
   ]
  },
  {
   "cell_type": "code",
   "execution_count": 56,
   "id": "819591a2-06bd-4838-ab63-96e4567006d1",
   "metadata": {},
   "outputs": [
    {
     "name": "stdout",
     "output_type": "stream",
     "text": [
      "810\n"
     ]
    }
   ],
   "source": [
    "basic_table.insert(\"Heamenth\",\"667860\")\n"
   ]
  },
  {
   "cell_type": "code",
   "execution_count": 57,
   "id": "c9e09bce-e60e-4302-817a-ff1fb1f7aa53",
   "metadata": {},
   "outputs": [
    {
     "data": {
      "text/plain": [
       "['Heamenth']"
      ]
     },
     "execution_count": 57,
     "metadata": {},
     "output_type": "execute_result"
    }
   ],
   "source": [
    "basic_table.list_all()"
   ]
  },
  {
   "cell_type": "code",
   "execution_count": 65,
   "id": "1b171044-32d2-408c-9bb3-2d6f096f0d26",
   "metadata": {},
   "outputs": [],
   "source": [
    "def get_valid_index(data_list,key):\n",
    "    idx = get_index_(data_list,key)\n",
    "    while True:\n",
    "        kv = data_list[idx]\n",
    "        if kv is None:\n",
    "            return idx\n",
    "        k,v = kv\n",
    "        if k == key:\n",
    "            return idx\n",
    "        idx += 1\n",
    "        if idx == len(data_list):\n",
    "            idx = 0\n",
    "        "
   ]
  },
  {
   "cell_type": "code",
   "execution_count": 66,
   "id": "4d5ab502-2714-47a4-b8f5-0143036b75fb",
   "metadata": {},
   "outputs": [],
   "source": [
    "data_list_2 = [None]*48"
   ]
  },
  {
   "cell_type": "code",
   "execution_count": 67,
   "id": "1a36e268-7a27-450d-b44c-fcf5fa4eb57b",
   "metadata": {},
   "outputs": [
    {
     "data": {
      "text/plain": [
       "True"
      ]
     },
     "execution_count": 67,
     "metadata": {},
     "output_type": "execute_result"
    }
   ],
   "source": [
    "get_valid_index(data_list_2,\"listen\") == 31"
   ]
  },
  {
   "cell_type": "code",
   "execution_count": null,
   "id": "c7843c7a-e9f1-427b-8ee1-d17bf736c575",
   "metadata": {},
   "outputs": [],
   "source": [
    "#create a class with get valid index and test it out\n",
    "# test get_valid_index with listen and slient\n",
    "#implement a python freindly interface for hash table\n",
    "# Do additional question on hash table"
   ]
  }
 ],
 "metadata": {
  "kernelspec": {
   "display_name": "Python 3 (ipykernel)",
   "language": "python",
   "name": "python3"
  },
  "language_info": {
   "codemirror_mode": {
    "name": "ipython",
    "version": 3
   },
   "file_extension": ".py",
   "mimetype": "text/x-python",
   "name": "python",
   "nbconvert_exporter": "python",
   "pygments_lexer": "ipython3",
   "version": "3.12.1"
  }
 },
 "nbformat": 4,
 "nbformat_minor": 5
}
