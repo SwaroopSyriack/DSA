{
 "cells": [
  {
   "cell_type": "code",
   "execution_count": 1,
   "id": "c6ca7459-082c-4b08-9f5e-fa277f50ab7a",
   "metadata": {},
   "outputs": [],
   "source": [
    "# We are two sequnces and we need to find the longest common subsequence "
   ]
  },
  {
   "cell_type": "code",
   "execution_count": 1,
   "id": "a678be15-bd70-45dc-adf8-70310f3715a8",
   "metadata": {},
   "outputs": [],
   "source": [
    "# The inputs are : serendipitous and precipitation\n",
    "#the output sequence should be edpt"
   ]
  },
  {
   "cell_type": "code",
   "execution_count": 9,
   "id": "f0ff7f4f-da68-482b-87d4-b83101486aed",
   "metadata": {},
   "outputs": [],
   "source": [
    "t0 ={'input':{'seq1':'serendipitous',\n",
    "              'seq2':'precipitation'},\n",
    "     'output':7\n",
    "}\n",
    "t1 ={'input':{'seq1':[1,3,5,6,7,2,5,2,3],\n",
    "              'seq2':[6,2,4,7,1,5,6,2,3]},\n",
    "     'output':5\n",
    "}\n",
    "t3 ={'input':{'seq1':'longest',\n",
    "              'seq2':'stone'},\n",
    "     'output':3\n",
    "}\n",
    "t4 ={'input':{'seq1':'asdfgsdag',\n",
    "              'seq2':'hjjlkjhhjk'},\n",
    "     'output':0\n",
    "}\n",
    "t5 ={'input':{'seq1':'densed',\n",
    "              'seq2':'condensed'},\n",
    "     'output':5\n",
    "}"
   ]
  },
  {
   "cell_type": "code",
   "execution_count": 10,
   "id": "5a4605b3-b466-4bc7-84bd-8ea4d77b45a1",
   "metadata": {},
   "outputs": [],
   "source": [
    "T = [t0,t1,t3,t4,t5]"
   ]
  },
  {
   "cell_type": "code",
   "execution_count": 15,
   "id": "5eb229eb-4c3e-40de-8b7b-2173006bf122",
   "metadata": {},
   "outputs": [],
   "source": [
    "# The LCS using Recursion but have limitation of repitation\n",
    "def lcs_recursive(seq1,seq2,idx1 = 0 ,idx2 = 0):\n",
    "    if idx1 == len(seq1) or idx2 == len(seq2):\n",
    "        return 0\n",
    "    elif seq1[idx1] == seq2[idx2]:\n",
    "        return 1 + lcs_recursive(seq1,seq2,idx1+1,idx2+1)\n",
    "    else:\n",
    "        option1 = lcs_recursive(seq1,seq2,idx1+1,idx2)\n",
    "        option2 = lcs_recursive(seq1,seq2,idx1,idx2+1)\n",
    "        return max(option1,option2)"
   ]
  },
  {
   "cell_type": "code",
   "execution_count": 16,
   "id": "b1137ed6-fd08-42e7-b3f2-fadade35d031",
   "metadata": {},
   "outputs": [
    {
     "data": {
      "text/plain": [
       "{'input': {'seq1': 'serendipitous', 'seq2': 'precipitation'}, 'output': 7}"
      ]
     },
     "execution_count": 16,
     "metadata": {},
     "output_type": "execute_result"
    }
   ],
   "source": [
    "t0\n"
   ]
  },
  {
   "cell_type": "code",
   "execution_count": 25,
   "id": "b83a2d67-408c-4979-98ad-207563699f99",
   "metadata": {},
   "outputs": [
    {
     "name": "stdout",
     "output_type": "stream",
     "text": [
      "True{'input': {'seq1': 'serendipitous', 'seq2': 'precipitation'}, 'output': 7} {'input': {'seq1': 'serendipitous', 'seq2': 'precipitation'}, 'output': 7}\n",
      "True{'input': {'seq1': [1, 3, 5, 6, 7, 2, 5, 2, 3], 'seq2': [6, 2, 4, 7, 1, 5, 6, 2, 3]}, 'output': 5} {'input': {'seq1': [1, 3, 5, 6, 7, 2, 5, 2, 3], 'seq2': [6, 2, 4, 7, 1, 5, 6, 2, 3]}, 'output': 5}\n",
      "True{'input': {'seq1': 'longest', 'seq2': 'stone'}, 'output': 3} {'input': {'seq1': 'longest', 'seq2': 'stone'}, 'output': 3}\n",
      "True{'input': {'seq1': 'asdfgsdag', 'seq2': 'hjjlkjhhjk'}, 'output': 0} {'input': {'seq1': 'asdfgsdag', 'seq2': 'hjjlkjhhjk'}, 'output': 0}\n",
      "false\n",
      "CPU times: total: 219 ms\n",
      "Wall time: 271 ms\n"
     ]
    }
   ],
   "source": [
    "%%time\n",
    "for i in T:\n",
    "    if lcs_recursive(i['input']['seq1'],i['input']['seq2']) == i['output']:\n",
    "        print(f\"True{i}\",i)\n",
    "    else:\n",
    "        print(\"false\")"
   ]
  },
  {
   "cell_type": "code",
   "execution_count": 26,
   "id": "cc9acd83-d4fc-4396-afa4-02de2babec60",
   "metadata": {},
   "outputs": [],
   "source": [
    "# The LCS using Memoization"
   ]
  },
  {
   "cell_type": "code",
   "execution_count": 44,
   "id": "8c3f41f8-0a47-42ab-9ee5-ea68dc161514",
   "metadata": {},
   "outputs": [],
   "source": [
    "def lcs_memo(seq1,seq2):\n",
    "    memo = {}\n",
    "    def recursive(idx1=0,idx2=0):\n",
    "        key = (idx1,idx2)\n",
    "        if key in memo:\n",
    "            return memo[key]\n",
    "        elif idx1 == len(seq1) or idx2 == len(seq2):\n",
    "            memo[key] = 0\n",
    "        elif seq1[idx1] == seq2[idx2]:\n",
    "            memo[key] = 1 + recursive(idx1+1,idx2+1)\n",
    "        else:\n",
    "            memo[key] = max(recursive(idx1+1,idx2),recursive(idx1,idx2+1))\n",
    "        return memo[key]\n",
    "    return recursive(0,0)\n",
    "            \n",
    "            "
   ]
  },
  {
   "cell_type": "code",
   "execution_count": 11,
   "id": "78dbccae-35ad-451c-8fbd-722d619e9389",
   "metadata": {},
   "outputs": [
    {
     "data": {
      "text/plain": [
       "{'input': {'seq1': 'serendipitous', 'seq2': 'precipitation'}, 'output': 7}"
      ]
     },
     "execution_count": 11,
     "metadata": {},
     "output_type": "execute_result"
    }
   ],
   "source": [
    "t0\n"
   ]
  },
  {
   "cell_type": "code",
   "execution_count": 47,
   "id": "3367626b-6285-4c8a-ab1b-e3b5bb87366f",
   "metadata": {},
   "outputs": [
    {
     "data": {
      "text/plain": [
       "True"
      ]
     },
     "execution_count": 47,
     "metadata": {},
     "output_type": "execute_result"
    }
   ],
   "source": [
    "lcs_memo(t0['input']['seq1'],t0['input']['seq2']) == t0['output']"
   ]
  },
  {
   "cell_type": "code",
   "execution_count": 19,
   "id": "d42afe22-090a-4166-975b-e7161f575454",
   "metadata": {},
   "outputs": [],
   "source": [
    "def lcs_dp(seq1,seq2):\n",
    "    n1,n2 = len(seq1),len(seq2)\n",
    "    table = [[0 for i in range (n2+1)]for j in range (n1+1)]\n",
    "    for idx1 in range(n1):\n",
    "        for idx2 in range (n2):\n",
    "            if seq1[idx1] == seq2[idx2]:\n",
    "                table[idx1+1][idx2+1] = 1 + table[idx1][idx2]\n",
    "            else:\n",
    "                table[idx1+1][idx2+1] = max(table[idx1][idx2+1],table[idx1+1][idx2])\n",
    "    return table[-1][-1]\n",
    "                \n",
    "                "
   ]
  },
  {
   "cell_type": "code",
   "execution_count": 20,
   "id": "7a16832f-b369-4734-9250-a53d207bf42f",
   "metadata": {},
   "outputs": [
    {
     "data": {
      "text/plain": [
       "True"
      ]
     },
     "execution_count": 20,
     "metadata": {},
     "output_type": "execute_result"
    }
   ],
   "source": [
    "lcs_dp(t0['input']['seq1'],t0['input']['seq2']) == t0['output']"
   ]
  },
  {
   "cell_type": "code",
   "execution_count": 1,
   "id": "c1a618d9-75fc-43a8-abb9-541d386a1813",
   "metadata": {},
   "outputs": [],
   "source": [
    "# The 0-1 Knapsack Problem :\n",
    "# You are charge of selecting a football team from a large pool of players .Each player has a cost and rating .You have limited budget\n",
    "# What is highest rate of team that fits within your buget "
   ]
  },
  {
   "cell_type": "code",
   "execution_count": 3,
   "id": "3c13f59c-b7c8-46ab-9df6-861b372c64f6",
   "metadata": {},
   "outputs": [],
   "source": [
    "# Test Cases\n",
    "test0 = {'input':{'capacity':165,\n",
    "                  'weights':[23,31,29,44,53,38,63,85,89,82],\n",
    "                  'profits':[92,57,49,68,60,43,67,84,87,72]},\n",
    "        'output':309}\n",
    "test1 = {'input':{'capacity':3,\n",
    "                  'weights':[4,5,6],\n",
    "                  'profits':[1,2,3]},\n",
    "        'output':0}\n",
    "test2 = {'input':{'capacity':4,\n",
    "                  'weights':[4,5,1],\n",
    "                  'profits':[1,2,3]},\n",
    "        'output':3}\n"
   ]
  },
  {
   "cell_type": "code",
   "execution_count": 4,
   "id": "f97bb3c0-b368-4e0f-919c-78658bb6a738",
   "metadata": {},
   "outputs": [],
   "source": [
    "tests= [test0,test1,test2]"
   ]
  },
  {
   "cell_type": "code",
   "execution_count": 8,
   "id": "ee44e0b4-9da8-43e4-b52c-324fd7ca17d0",
   "metadata": {},
   "outputs": [],
   "source": [
    "def max_profits(weights,profits,capacity,idx=0):\n",
    "    if idx == len(weights):\n",
    "        return 0\n",
    "    elif weights[idx] > capacity:\n",
    "        return max_profits(weights,profits,capacity,idx+1)\n",
    "    else:\n",
    "        option1 = max_profits(weights,profits,capacity,idx+1)\n",
    "        option2 = profits[idx] + max_profits(weights,profits,capacity - weights[idx],idx+1)\n",
    "        return max(option1,option2)\n",
    "        \n"
   ]
  },
  {
   "cell_type": "code",
   "execution_count": 11,
   "id": "6c23e432-ba15-4383-95b9-ae3f58acacbe",
   "metadata": {},
   "outputs": [
    {
     "name": "stdout",
     "output_type": "stream",
     "text": [
      "CPU times: total: 0 ns\n",
      "Wall time: 0 ns\n"
     ]
    },
    {
     "data": {
      "text/plain": [
       "True"
      ]
     },
     "execution_count": 11,
     "metadata": {},
     "output_type": "execute_result"
    }
   ],
   "source": [
    "%%time\n",
    "max_profits(**test0['input']) == test0['output']"
   ]
  },
  {
   "cell_type": "code",
   "execution_count": 43,
   "id": "d20adef4-9848-4bcf-bf24-10da616349ed",
   "metadata": {},
   "outputs": [],
   "source": [
    "def max_memo(weights,profits,capacity,idx=0,memo={}):\n",
    "    key = (capacity,idx)\n",
    "    if key in memo:\n",
    "        return memo[key]\n",
    "    if idx == len(weights):\n",
    "        return 0\n",
    "    elif weights[idx] > capacity:\n",
    "        memo[key] = max_memo(weights,profits,capacity,idx+1,memo)\n",
    "    else:\n",
    "        option1 = max_memo(weights,profits,capacity,idx+1,memo)\n",
    "        option2 = profits[idx] + max_memo(weights,profits,capacity - weights[idx],idx+1,memo)\n",
    "        memo[key] = max(option1,option2)\n",
    "    return memo[key]"
   ]
  },
  {
   "cell_type": "code",
   "execution_count": 45,
   "id": "c53cfa21-5090-44b4-a704-f2d6da57a4c3",
   "metadata": {},
   "outputs": [
    {
     "data": {
      "text/plain": [
       "True"
      ]
     },
     "execution_count": 45,
     "metadata": {},
     "output_type": "execute_result"
    }
   ],
   "source": [
    "max_memo(test0['input']['weights'], test0['input']['profits'], test0['input']['capacity']) == test0['output']"
   ]
  },
  {
   "cell_type": "code",
   "execution_count": 5,
   "id": "cffa728c-21e0-4318-90ae-2aecbff0d856",
   "metadata": {},
   "outputs": [],
   "source": [
    "def max_profits_dp(weights,profits,capacity):\n",
    "    n = len(weights)\n",
    "    table = [[0 for _ in range (capacity+1)] for _ in range (n+1)]\n",
    "    for i in range (n):\n",
    "        for c in range (1,capacity+1):\n",
    "            if weights[i] > c:\n",
    "                table[i+1][c] = table[i][c]\n",
    "            else:\n",
    "                table[i+1][c] = max(table[i][c],profits[i]+table[i][c-weights[i]])\n",
    "    return table[-1][-1]\n",
    "                \n"
   ]
  },
  {
   "cell_type": "code",
   "execution_count": 8,
   "id": "7f1b656e-db4d-4c14-bf3f-bed625f27254",
   "metadata": {},
   "outputs": [
    {
     "name": "stdout",
     "output_type": "stream",
     "text": [
      "CPU times: total: 0 ns\n",
      "Wall time: 4.68 ms\n"
     ]
    },
    {
     "data": {
      "text/plain": [
       "True"
      ]
     },
     "execution_count": 8,
     "metadata": {},
     "output_type": "execute_result"
    }
   ],
   "source": [
    "%%time\n",
    "max_profits_dp(test1['input']['weights'], test1['input']['profits'], test1['input']['capacity']) == test1['output']"
   ]
  },
  {
   "cell_type": "code",
   "execution_count": null,
   "id": "447d6603-82b4-4e64-a587-1b53bc955dfb",
   "metadata": {},
   "outputs": [],
   "source": []
  }
 ],
 "metadata": {
  "kernelspec": {
   "display_name": "Python 3 (ipykernel)",
   "language": "python",
   "name": "python3"
  },
  "language_info": {
   "codemirror_mode": {
    "name": "ipython",
    "version": 3
   },
   "file_extension": ".py",
   "mimetype": "text/x-python",
   "name": "python",
   "nbconvert_exporter": "python",
   "pygments_lexer": "ipython3",
   "version": "3.12.2"
  }
 },
 "nbformat": 4,
 "nbformat_minor": 5
}
